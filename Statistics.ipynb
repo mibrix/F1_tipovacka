{
 "cells": [
  {
   "cell_type": "code",
   "execution_count": 1,
   "id": "636d98e8",
   "metadata": {},
   "outputs": [],
   "source": [
    "import pandas as pd\n",
    "import sqlite3"
   ]
  },
  {
   "cell_type": "code",
   "execution_count": 2,
   "id": "2c520fd0",
   "metadata": {},
   "outputs": [],
   "source": [
    "conn = sqlite3.connect('F1-2023.db')\n",
    "c = conn.cursor()"
   ]
  },
  {
   "cell_type": "code",
   "execution_count": 14,
   "id": "49fbe9e1",
   "metadata": {
    "scrolled": true
   },
   "outputs": [
    {
     "name": "stdout",
     "output_type": "stream",
     "text": [
      "([15, 18, 18, 8, 18, -6], [[True, True, False, False, False, False, True, False, True, True, True, True, True, True, True], [True, True, False, False, False, False, True, True, True, True, True, True, True, True, True], [True, True, True, False, False, False, True, False, True, True, True, True, True, True, True], [True, False, False, False, False, False, True, False, True, True, True, True, False, True, False], [True, True, True, False, False, False, True, False, True, True, True, True, True, True, True], [False, False, False, False, False, False, False, False, False, False, False, False, False, False, False]])\n"
     ]
    }
   ],
   "source": [
    "def score_and_matrix(gp_id):\n",
    "    player_names = [\"Wonde\",\"Tome\", \"Hrici\", \"Kajlo\", \"Sasu\", \"OG\"]\n",
    "    matrix_of_ans = []\n",
    "    score = []\n",
    "    for i in range(len(player_names)):\n",
    "        matrix_i = [None for _ in range(15)]\n",
    "        #correct answers\n",
    "        c.execute(f'''SELECT a.question_id FROM bets a JOIN ground_truth b\n",
    "                     ON a.grand_prix_id = b.grand_prix_id\n",
    "                     AND a.answer = b.correct_ans\n",
    "                     AND a.question_id = b.question_id\n",
    "                     WHERE a.player_id = {i+1}\n",
    "                     AND a.grand_prix_id = {gp_id}''')\n",
    "        myresult = c.fetchall()\n",
    "        correct_pts = len(myresult)*2\n",
    "        minus_pts = 0\n",
    "\n",
    "        #matrix\n",
    "        for q_id in myresult:\n",
    "            matrix_i[q_id[0]-1] = True\n",
    "\n",
    "        #if DNF player was correct\n",
    "        if (6,) in myresult:\n",
    "            matrix_i[5] = True\n",
    "        else:\n",
    "            minus_pts += 1\n",
    "            matrix_i[5] = False\n",
    "\n",
    "        #incorrect answers\n",
    "        c.execute(f'''SELECT a.question_id FROM bets a JOIN ground_truth b\n",
    "                 ON a.grand_prix_id = b.grand_prix_id\n",
    "                 AND a.answer <> b.correct_ans\n",
    "                 AND a.question_id = b.question_id\n",
    "                 WHERE a.player_id = {i+1}\n",
    "                 AND a.grand_prix_id = {gp_id}''')\n",
    "\n",
    "        myresult1 = c.fetchall()\n",
    "        for ans in myresult1:\n",
    "            if ans[0] >= 1 and ans[0] <= 11 and ans[0] != 6:\n",
    "                minus_pts += 1\n",
    "            if ans[0] != 6:\n",
    "                matrix_i[ans[0]-1] = False\n",
    "\n",
    "        matrix_of_ans.append(matrix_i)\n",
    "        score.append(max(correct_pts - minus_pts, -6))\n",
    "    return(score, matrix_of_ans)\n",
    "print(score_and_matrix(1))"
   ]
  },
  {
   "cell_type": "code",
   "execution_count": 20,
   "outputs": [
    {
     "name": "stdout",
     "output_type": "stream",
     "text": [
      "      Wonde     Tome    Hrici        Kajlo         Sasu           OG\n",
      "0       PER      PER      PER          ALO          PER          PER\n",
      "1       ALO      ALO      ALO          PER          LEC          ALO\n",
      "2       VER      SAI      VER          VER          ALO          VER\n",
      "3       VER      VER      VER          VER          VER          PER\n",
      "4       DEV      DEV      SAR          DEV          SAR          SAR\n",
      "5       SER      SER      NOR          SAR          TSU          STR\n",
      "6       Ano      Ano      Ano          Ano          Nie          Nie\n",
      "7       Ano      Ano      Ano          Ano          Ano          Ano\n",
      "8       Nie      Ano      Ano          Ano          Ano          Ano\n",
      "9       Nie      Ano      Nie          Nie          Nie          Nie\n",
      "10      Ano      Ano      Ano          Ano          Ano          Ano\n",
      "11      Nie      Nie      Nie          Nie          Nie          Nie\n",
      "12      Nie      Nie      Nie  Ano-Redbull  Ano-Redbull  Ano-Redbull\n",
      "13      PER      PER      PER          ALO          VER          PER\n",
      "14  Redbull  Redbull  Redbull      Redbull      Redbull      Redbull\n"
     ]
    }
   ],
   "source": [
    "jedah = ''\n",
    "player_names = [\"Wonde\",\"Tome\", \"Hrici\", \"Kajlo\", \"Sasu\", \"OG\"]\n",
    "def answers(gp_id):\n",
    "    d = {\"Wonde\":[None for _ in range(15)],\"Tome\":[None for _ in range(15)], \"Hrici\":[None for _ in range(15)], \"Kajlo\":[None for _ in range(15)], \"Sasu\":[None for _ in range(15)], \"OG\":[None for _ in range(15)]}\n",
    "    c.execute(f'''SELECT * FROM bets\n",
    "                  WHERE grand_prix_id = {gp_id}''')\n",
    "\n",
    "    myresult = c.fetchall()\n",
    "    for ans in myresult:\n",
    "        d[player_names[int(ans[1])-1]][ans[0]-1] = ans[3]\n",
    "\n",
    "    df = pd.DataFrame(data=d)\n",
    "    df_bool = pd.DataFrame(score_and_matrix(1)[1]).T\n",
    "    def color_boolean(val):\n",
    "      color =''\n",
    "      if df_bool == False:\n",
    "        color = 'red'\n",
    "      elif df_bool == True:\n",
    "        color = 'black'\n",
    "      return f'color: {color}'\n",
    "    df.style.apply(lambda c: df_bool[c.name].apply(color_boolean))\n",
    "    print(df)\n",
    "\n",
    "answers(2)"
   ],
   "metadata": {
    "collapsed": false,
    "pycharm": {
     "name": "#%%\n"
    }
   }
  },
  {
   "cell_type": "code",
   "execution_count": 5,
   "id": "dc26520a",
   "metadata": {},
   "outputs": [],
   "source": [
    "conn.close()"
   ]
  }
 ],
 "metadata": {
  "kernelspec": {
   "display_name": "Python 3 (ipykernel)",
   "language": "python",
   "name": "python3"
  },
  "language_info": {
   "codemirror_mode": {
    "name": "ipython",
    "version": 3
   },
   "file_extension": ".py",
   "mimetype": "text/x-python",
   "name": "python",
   "nbconvert_exporter": "python",
   "pygments_lexer": "ipython3",
   "version": "3.9.7"
  }
 },
 "nbformat": 4,
 "nbformat_minor": 5
}