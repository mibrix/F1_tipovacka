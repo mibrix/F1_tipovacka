{
 "cells": [
  {
   "cell_type": "code",
   "execution_count": 2,
   "id": "636d98e8",
   "metadata": {},
   "outputs": [],
   "source": [
    "import pandas as pd\n",
    "import sqlite3"
   ]
  },
  {
   "cell_type": "code",
   "execution_count": 7,
   "id": "2c520fd0",
   "metadata": {},
   "outputs": [],
   "source": [
    "conn = sqlite3.connect('F1-2023.db')\n",
    "c = conn.cursor()"
   ]
  },
  {
   "cell_type": "code",
   "execution_count": 8,
   "id": "49fbe9e1",
   "metadata": {
    "scrolled": true
   },
   "outputs": [
    {
     "name": "stdout",
     "output_type": "stream",
     "text": [
      "Wonde\n",
      "15\n",
      "Tome\n",
      "18\n",
      "Hrici\n",
      "18\n",
      "Kajlo\n",
      "8\n",
      "Sasu\n",
      "18\n",
      "OG\n",
      "-6\n"
     ]
    }
   ],
   "source": [
    "player_names = [\"Wonde\",\"Tome\", \"Hrici\", \"Kajlo\", \"Sasu\", \"OG\"]\n",
    "gp_id = 1\n",
    "for i in range(len(player_names)):\n",
    "    #correct answers\n",
    "    c.execute(f'''SELECT a.question_id FROM bets a JOIN ground_truth b \n",
    "                 ON a.grand_prix_id = b.grand_prix_id \n",
    "                 AND a.answer = b.correct_ans\n",
    "                 AND a.question_id = b.question_id\n",
    "                 WHERE a.player_id = {i+1}\n",
    "                 AND a.grand_prix_id = {gp_id}''')\n",
    "    myresult = c.fetchall()\n",
    "    correct_pts = len(myresult)*2\n",
    "    minus_pts = 0\n",
    "\n",
    "    #if DNF player was correct\n",
    "    if (6,) in myresult:\n",
    "        True\n",
    "    else:\n",
    "        minus_pts += 1\n",
    "    \n",
    "    #incorrect answers\n",
    "    c.execute(f'''SELECT a.question_id FROM bets a JOIN ground_truth b \n",
    "             ON a.grand_prix_id = b.grand_prix_id \n",
    "             AND a.answer <> b.correct_ans\n",
    "             AND a.question_id = b.question_id\n",
    "             WHERE a.player_id = {i+1}\n",
    "             AND a.grand_prix_id = {gp_id}''')\n",
    "\n",
    "    myresult1 = c.fetchall()\n",
    "    for ans in myresult1:\n",
    "        if ans[0] >= 1 and ans[0] <= 11 and ans[0] != 6:               \n",
    "            minus_pts += 1\n",
    "            \n",
    "    \n",
    "    print(player_names[i])\n",
    "    print(max(correct_pts - minus_pts, -6))"
   ]
  },
  {
   "cell_type": "code",
   "execution_count": 5,
   "id": "dc26520a",
   "metadata": {},
   "outputs": [],
   "source": [
    "conn.close()"
   ]
  }
 ],
 "metadata": {
  "kernelspec": {
   "display_name": "Python 3 (ipykernel)",
   "language": "python",
   "name": "python3"
  },
  "language_info": {
   "codemirror_mode": {
    "name": "ipython",
    "version": 3
   },
   "file_extension": ".py",
   "mimetype": "text/x-python",
   "name": "python",
   "nbconvert_exporter": "python",
   "pygments_lexer": "ipython3",
   "version": "3.9.7"
  }
 },
 "nbformat": 4,
 "nbformat_minor": 5
}