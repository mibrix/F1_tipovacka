{
 "cells": [
  {
   "cell_type": "code",
   "execution_count": 32,
   "id": "636d98e8",
   "metadata": {},
   "outputs": [],
   "source": [
    "import pandas as pd\n",
    "import numpy as np\n",
    "import sqlite3"
   ]
  },
  {
   "cell_type": "code",
   "execution_count": 2,
   "id": "2c520fd0",
   "metadata": {},
   "outputs": [],
   "source": [
    "conn = sqlite3.connect('F1-2023.db')\n",
    "c = conn.cursor()"
   ]
  },
  {
   "cell_type": "code",
   "execution_count": 14,
   "id": "49fbe9e1",
   "metadata": {
    "scrolled": true
   },
   "outputs": [
    {
     "name": "stdout",
     "output_type": "stream",
     "text": [
      "([15, 18, 18, 8, 18, -6], [[True, True, False, False, False, False, True, False, True, True, True, True, True, True, True], [True, True, False, False, False, False, True, True, True, True, True, True, True, True, True], [True, True, True, False, False, False, True, False, True, True, True, True, True, True, True], [True, False, False, False, False, False, True, False, True, True, True, True, False, True, False], [True, True, True, False, False, False, True, False, True, True, True, True, True, True, True], [False, False, False, False, False, False, False, False, False, False, False, False, False, False, False]])\n"
     ]
    }
   ],
   "source": [
    "def score_and_matrix(gp_id):\n",
    "    player_names = [\"Wonde\",\"Tome\", \"Hrici\", \"Kajlo\", \"Sasu\", \"OG\"]\n",
    "    matrix_of_ans = []\n",
    "    score = []\n",
    "    for i in range(len(player_names)):\n",
    "        matrix_i = [None for _ in range(15)]\n",
    "        #correct answers\n",
    "        c.execute(f'''SELECT a.question_id FROM bets a JOIN ground_truth b\n",
    "                     ON a.grand_prix_id = b.grand_prix_id\n",
    "                     AND a.answer = b.correct_ans\n",
    "                     AND a.question_id = b.question_id\n",
    "                     WHERE a.player_id = {i+1}\n",
    "                     AND a.grand_prix_id = {gp_id}''')\n",
    "        myresult = c.fetchall()\n",
    "        correct_pts = len(myresult)*2\n",
    "        minus_pts = 0\n",
    "\n",
    "        #matrix\n",
    "        for q_id in myresult:\n",
    "            matrix_i[q_id[0]-1] = True\n",
    "\n",
    "        #if DNF player was correct\n",
    "        if (6,) in myresult:\n",
    "            matrix_i[5] = True\n",
    "        else:\n",
    "            minus_pts += 1\n",
    "            matrix_i[5] = False\n",
    "\n",
    "        #incorrect answers\n",
    "        c.execute(f'''SELECT a.question_id FROM bets a JOIN ground_truth b\n",
    "                 ON a.grand_prix_id = b.grand_prix_id\n",
    "                 AND a.answer <> b.correct_ans\n",
    "                 AND a.question_id = b.question_id\n",
    "                 WHERE a.player_id = {i+1}\n",
    "                 AND a.grand_prix_id = {gp_id}''')\n",
    "\n",
    "        myresult1 = c.fetchall()\n",
    "        for ans in myresult1:\n",
    "            if ans[0] >= 1 and ans[0] <= 11 and ans[0] != 6:\n",
    "                minus_pts += 1\n",
    "            if ans[0] != 6:\n",
    "                matrix_i[ans[0]-1] = False\n",
    "\n",
    "        matrix_of_ans.append(matrix_i)\n",
    "        score.append(max(correct_pts - minus_pts, -6))\n",
    "    return(score, matrix_of_ans)\n",
    "print(score_and_matrix(1))"
   ]
  },
  {
   "cell_type": "code",
   "execution_count": 33,
   "outputs": [
    {
     "name": "stdout",
     "output_type": "stream",
     "text": [
      "        0      1      2      3      4      5\n",
      "0    True   True   True   True   True  False\n",
      "1    True   True   True  False   True  False\n",
      "2   False  False   True  False   True  False\n",
      "3   False  False  False  False  False  False\n",
      "4   False  False  False  False  False  False\n",
      "5   False  False  False  False  False  False\n",
      "6    True   True   True   True   True  False\n",
      "7   False   True  False  False  False  False\n",
      "8    True   True   True   True   True  False\n",
      "9    True   True   True   True   True  False\n",
      "10   True   True   True   True   True  False\n",
      "11   True   True   True   True   True  False\n",
      "12   True   True   True  False   True  False\n",
      "13   True   True   True   True   True  False\n",
      "14   True   True   True  False   True  False\n"
     ]
    },
    {
     "data": {
      "text/plain": "      Wonde     Tome    Hrici        Kajlo         Sasu           OG\n0       PER      PER      PER          ALO          PER          PER\n1       ALO      ALO      ALO          PER          LEC          ALO\n2       VER      SAI      VER          VER          ALO          VER\n3       VER      VER      VER          VER          VER          PER\n4       DEV      DEV      SAR          DEV          SAR          SAR\n5       SER      SER      NOR          SAR          TSU          STR\n6       Ano      Ano      Ano          Ano          Nie          Nie\n7       Ano      Ano      Ano          Ano          Ano          Ano\n8       Nie      Ano      Ano          Ano          Ano          Ano\n9       Nie      Ano      Nie          Nie          Nie          Nie\n10      Ano      Ano      Ano          Ano          Ano          Ano\n11      Nie      Nie      Nie          Nie          Nie          Nie\n12      Nie      Nie      Nie  Ano-Redbull  Ano-Redbull  Ano-Redbull\n13      PER      PER      PER          ALO          VER          PER\n14  Redbull  Redbull  Redbull      Redbull      Redbull      Redbull",
      "text/html": "<div>\n<style scoped>\n    .dataframe tbody tr th:only-of-type {\n        vertical-align: middle;\n    }\n\n    .dataframe tbody tr th {\n        vertical-align: top;\n    }\n\n    .dataframe thead th {\n        text-align: right;\n    }\n</style>\n<table border=\"1\" class=\"dataframe\">\n  <thead>\n    <tr style=\"text-align: right;\">\n      <th></th>\n      <th>Wonde</th>\n      <th>Tome</th>\n      <th>Hrici</th>\n      <th>Kajlo</th>\n      <th>Sasu</th>\n      <th>OG</th>\n    </tr>\n  </thead>\n  <tbody>\n    <tr>\n      <th>0</th>\n      <td>PER</td>\n      <td>PER</td>\n      <td>PER</td>\n      <td>ALO</td>\n      <td>PER</td>\n      <td>PER</td>\n    </tr>\n    <tr>\n      <th>1</th>\n      <td>ALO</td>\n      <td>ALO</td>\n      <td>ALO</td>\n      <td>PER</td>\n      <td>LEC</td>\n      <td>ALO</td>\n    </tr>\n    <tr>\n      <th>2</th>\n      <td>VER</td>\n      <td>SAI</td>\n      <td>VER</td>\n      <td>VER</td>\n      <td>ALO</td>\n      <td>VER</td>\n    </tr>\n    <tr>\n      <th>3</th>\n      <td>VER</td>\n      <td>VER</td>\n      <td>VER</td>\n      <td>VER</td>\n      <td>VER</td>\n      <td>PER</td>\n    </tr>\n    <tr>\n      <th>4</th>\n      <td>DEV</td>\n      <td>DEV</td>\n      <td>SAR</td>\n      <td>DEV</td>\n      <td>SAR</td>\n      <td>SAR</td>\n    </tr>\n    <tr>\n      <th>5</th>\n      <td>SER</td>\n      <td>SER</td>\n      <td>NOR</td>\n      <td>SAR</td>\n      <td>TSU</td>\n      <td>STR</td>\n    </tr>\n    <tr>\n      <th>6</th>\n      <td>Ano</td>\n      <td>Ano</td>\n      <td>Ano</td>\n      <td>Ano</td>\n      <td>Nie</td>\n      <td>Nie</td>\n    </tr>\n    <tr>\n      <th>7</th>\n      <td>Ano</td>\n      <td>Ano</td>\n      <td>Ano</td>\n      <td>Ano</td>\n      <td>Ano</td>\n      <td>Ano</td>\n    </tr>\n    <tr>\n      <th>8</th>\n      <td>Nie</td>\n      <td>Ano</td>\n      <td>Ano</td>\n      <td>Ano</td>\n      <td>Ano</td>\n      <td>Ano</td>\n    </tr>\n    <tr>\n      <th>9</th>\n      <td>Nie</td>\n      <td>Ano</td>\n      <td>Nie</td>\n      <td>Nie</td>\n      <td>Nie</td>\n      <td>Nie</td>\n    </tr>\n    <tr>\n      <th>10</th>\n      <td>Ano</td>\n      <td>Ano</td>\n      <td>Ano</td>\n      <td>Ano</td>\n      <td>Ano</td>\n      <td>Ano</td>\n    </tr>\n    <tr>\n      <th>11</th>\n      <td>Nie</td>\n      <td>Nie</td>\n      <td>Nie</td>\n      <td>Nie</td>\n      <td>Nie</td>\n      <td>Nie</td>\n    </tr>\n    <tr>\n      <th>12</th>\n      <td>Nie</td>\n      <td>Nie</td>\n      <td>Nie</td>\n      <td>Ano-Redbull</td>\n      <td>Ano-Redbull</td>\n      <td>Ano-Redbull</td>\n    </tr>\n    <tr>\n      <th>13</th>\n      <td>PER</td>\n      <td>PER</td>\n      <td>PER</td>\n      <td>ALO</td>\n      <td>VER</td>\n      <td>PER</td>\n    </tr>\n    <tr>\n      <th>14</th>\n      <td>Redbull</td>\n      <td>Redbull</td>\n      <td>Redbull</td>\n      <td>Redbull</td>\n      <td>Redbull</td>\n      <td>Redbull</td>\n    </tr>\n  </tbody>\n</table>\n</div>"
     },
     "metadata": {},
     "output_type": "display_data"
    }
   ],
   "source": [
    "jedah = ''\n",
    "player_names = [\"Wonde\",\"Tome\", \"Hrici\", \"Kajlo\", \"Sasu\", \"OG\"]\n",
    "def answers(gp_id):\n",
    "    d = {\"Wonde\":[None for _ in range(15)],\"Tome\":[None for _ in range(15)], \"Hrici\":[None for _ in range(15)], \"Kajlo\":[None for _ in range(15)], \"Sasu\":[None for _ in range(15)], \"OG\":[None for _ in range(15)]}\n",
    "    c.execute(f'''SELECT * FROM bets\n",
    "                  WHERE grand_prix_id = {gp_id}''')\n",
    "\n",
    "    myresult = c.fetchall()\n",
    "    for ans in myresult:\n",
    "        d[player_names[int(ans[1])-1]][ans[0]-1] = ans[3]\n",
    "\n",
    "    df = pd.DataFrame(data=d)\n",
    "    df_bool = pd.DataFrame(score_and_matrix(1)[1]).T\n",
    "    print(df_bool)\n",
    "    def color_boolean(val):\n",
    "      print('yes')\n",
    "      color =''\n",
    "      if df_bool == False:\n",
    "        print(True)\n",
    "        color = 'red'\n",
    "      elif df_bool == True:\n",
    "        color = 'black'\n",
    "      return f'color: {color}'\n",
    "\n",
    "    def color_boolean(val):\n",
    "        return f'color: {\"red\" if val else \"black\"}'\n",
    "\n",
    "    df.style.apply(lambda _: df_bool.applymap(color_boolean), axis=None)\n",
    "\n",
    "    true_css = 'color:red'\n",
    "    false_css = ''\n",
    "    df.style.apply(\n",
    "    lambda _: np.where(df_bool.eq(1), true_css, false_css),\n",
    "    axis=None\n",
    "    )\n",
    "    display(df)\n",
    "\n",
    "answers(2)"
   ],
   "metadata": {
    "collapsed": false,
    "pycharm": {
     "name": "#%%\n"
    }
   }
  },
  {
   "cell_type": "code",
   "execution_count": 5,
   "id": "dc26520a",
   "metadata": {},
   "outputs": [],
   "source": [
    "conn.close()"
   ]
  }
 ],
 "metadata": {
  "kernelspec": {
   "display_name": "Python 3 (ipykernel)",
   "language": "python",
   "name": "python3"
  },
  "language_info": {
   "codemirror_mode": {
    "name": "ipython",
    "version": 3
   },
   "file_extension": ".py",
   "mimetype": "text/x-python",
   "name": "python",
   "nbconvert_exporter": "python",
   "pygments_lexer": "ipython3",
   "version": "3.9.7"
  }
 },
 "nbformat": 4,
 "nbformat_minor": 5
}