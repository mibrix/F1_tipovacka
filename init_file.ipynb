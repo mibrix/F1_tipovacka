{
 "cells": [
  {
   "cell_type": "code",
   "execution_count": 1,
   "metadata": {},
   "outputs": [
    {
     "name": "stdout",
     "output_type": "stream",
     "text": [
      "{'Wonde': 11, 'Tome': 5, 'Hrici': 8, 'Kajlo': 7, 'Sasu': 18, 'OG': 10}\n"
     ]
    }
   ],
   "source": [
    "player_names = [\"Wonde\",\"Tome\", \"Hrici\", \"Kajlo\", \"Sasu\", \"OG\"]\n",
    "\n",
    "player_answers = [\n",
    "    [\"PER\",\"ALO\",\"VER\",\"VER\",\"DEV\",\"SER\",\"Ano\",\"Ano\",\"Nie\",\"Nie\",\"Ano\",\"Nie\",\"Nie\",\"PER\",\"Redbull\"],\n",
    "    [\"PER\",\"ALO\",\"SAI\",\"VER\",\"DEV\",\"SER\",\"Ano\",\"Ano\",\"Ano\",\"Ano\",\"Ano\",\"Nie\",\"Nie\",\"PER\",\"Redbull\"],\n",
    "    [\"PER\",\"ALO\",\"VER\",\"VER\",\"SAR\",\"NOR\",\"Ano\",\"Ano\",\"Ano\",\"Nie\",\"Ano\",\"Nie\",\"Nie\",\"PER\",\"Redbull\"],\n",
    "    ['ALO','PER','VER','VER','DEV','SAR','Ano','Ano','Ano','Nie','Ano','Nie','Ano-Redbull','ALO','Redbull'],\n",
    "    [\"PER\",\"LEC\",\"ALO\",\"VER\",\"SAR\",\"TSU\",\"Nie\",\"Ano\",\"Ano\",\"Nie\",\"Ano\",\"Nie\",\"Ano-Redbull\",\"VER\",\"Redbull\"],\n",
    "    ['PER','ALO','VER','PER','SAR','STR','Nie','Ano','Ano','Nie','Ano','Nie','Ano-Redbull','PER',\"Redbull\"]\n",
    "]\n",
    "\n",
    "ground_truth = [\"PER\", \"VER\", \"ALO\", \"VER\", \"BOT\", [\"STR\", \"ALB\"], \"Nie\", \"Ano\", \"Nie\", \"Nie\", \"Ano\", \"Nie\", \"Ano-Redbull\", \"VER\", \"Redbull\"]\n",
    "\n",
    "\n",
    "def calculate_scores(player_names, player_answers, ground_truth):\n",
    "    scores = {name: 0 for name in player_names}  # initialize scores to 0 for each player\n",
    "    for i in range(len(ground_truth)):\n",
    "        for name, answer in zip(player_names, player_answers):\n",
    "            if i >= len(ground_truth) - 4:\n",
    "                if answer[i] == ground_truth[i]:\n",
    "                    scores[name] += 2  # add 2 points for a correct answer\n",
    "            else:\n",
    "                if type(answer[i]) == str and answer[i] == ground_truth[i]:   #signle correct answer\n",
    "                        scores[name] += 2  # add 2 points for a correct answer\n",
    "                elif type(answer[i]) == list and answer[i] in ground_truth[i]:   #multiple correct answers\n",
    "                    scores[name] += 2  # add 2 points for a correct answer\n",
    "                else:\n",
    "                    scores[name] -= 1  # subtract 1 point for an incorrect answer\n",
    "    return scores\n",
    "\n",
    "\n",
    "\n",
    "\n",
    "\n",
    "scores = calculate_scores(player_names, player_answers, ground_truth)\n",
    "print(scores)\n"
   ]
  },
  {
   "cell_type": "code",
   "execution_count": 2,
   "metadata": {},
   "outputs": [],
   "source": [
    "import pandas as pd"
   ]
  },
  {
   "cell_type": "code",
   "execution_count": 3,
   "metadata": {},
   "outputs": [],
   "source": [
    "#nacitaj dotaznik"
   ]
  },
  {
   "cell_type": "code",
   "execution_count": 4,
   "metadata": {
    "scrolled": true
   },
   "outputs": [],
   "source": [
    "df = pd.read_csv(r'test.csv')"
   ]
  },
  {
   "cell_type": "code",
   "execution_count": 5,
   "metadata": {},
   "outputs": [],
   "source": [
    "#pridaj odpovede z dotaznika do db"
   ]
  },
  {
   "cell_type": "code",
   "execution_count": 6,
   "metadata": {},
   "outputs": [],
   "source": [
    "#treba vymazat riadky ktore nechcem ukladat"
   ]
  },
  {
   "cell_type": "code",
   "execution_count": 7,
   "metadata": {
    "scrolled": true
   },
   "outputs": [
    {
     "name": "stdout",
     "output_type": "stream",
     "text": [
      "\n",
      "\n"
     ]
    }
   ],
   "source": [
    "import sqlite3\n",
    "\n",
    "grand_prix_id = 3\n",
    "\n",
    "conn = sqlite3.connect('F1-2023.db')\n",
    "c = conn.cursor()\n",
    "\n",
    "for i in range(len(df['Meno'])):\n",
    "    print()\n",
    "    for n,ans in enumerate(df.loc[i][2:]):\n",
    "        if type(ans) == str:\n",
    "            #print(f'''{n+1}, {player_names.index(df.loc[i][1])+1}, {grand_prix_id}, {ans}''')\n",
    "             c.execute(f'''\n",
    "                      INSERT INTO bets (question_id, player_id, grand_prix_id, answer) \n",
    "                      VALUES ({n+1}, {player_names.index(df.loc[i][1])+1}, {grand_prix_id}, '{ans}')\n",
    "                      ''')\n",
    "\n",
    "conn.commit()"
   ]
  },
  {
   "cell_type": "code",
   "execution_count": 8,
   "metadata": {},
   "outputs": [],
   "source": [
    "#print answers"
   ]
  },
  {
   "cell_type": "code",
   "execution_count": 9,
   "metadata": {},
   "outputs": [],
   "source": [
    "c.execute('SELECT * FROM ground_truth')\n",
    "\n",
    "myresult = c.fetchall()\n",
    "\n",
    "for x in myresult:\n",
    "  print(x)"
   ]
  },
  {
   "cell_type": "code",
   "execution_count": 10,
   "metadata": {},
   "outputs": [
    {
     "name": "stdout",
     "output_type": "stream",
     "text": [
      "(1, '6', 3, 'Leclerc')\n",
      "(2, '6', 3, 'Zhou')\n",
      "(3, '6', 3, 'Alonso')\n",
      "(4, '6', 3, 'Ocon')\n",
      "(5, '6', 3, 'Leclerc')\n",
      "(6, '6', 3, 'Sainz')\n",
      "(7, '6', 3, 'Áno')\n",
      "(8, '6', 3, 'Nie')\n",
      "(9, '6', 3, 'Nie')\n",
      "(11, '6', 3, 'Áno')\n",
      "(12, '6', 3, 'Áno')\n",
      "(14, '6', 3, 'Mercedes')\n",
      "(15, '6', 3, 'Russell')\n",
      "(16, '6', 3, 'Williams')\n",
      "(1, '5', 3, 'Sainz')\n",
      "(2, '5', 3, 'Russell')\n",
      "(3, '5', 3, 'Alonso')\n",
      "(4, '5', 3, 'Sainz')\n",
      "(5, '5', 3, 'Hulkenberg')\n",
      "(6, '5', 3, 'Bottas')\n",
      "(7, '5', 3, 'Áno')\n",
      "(8, '5', 3, 'Nie')\n",
      "(9, '5', 3, 'Áno')\n",
      "(10, '5', 3, 'Nie')\n",
      "(11, '5', 3, 'Áno')\n",
      "(12, '5', 3, 'Nie')\n",
      "(13, '5', 3, 'Nie')\n",
      "(14, '5', 3, 'Aston Martin')\n",
      "(15, '5', 3, 'Stroll')\n"
     ]
    }
   ],
   "source": [
    "c.execute('SELECT * FROM bets')\n",
    "\n",
    "myresult = c.fetchall()\n",
    "\n",
    "for x in myresult:\n",
    "  print(x)"
   ]
  },
  {
   "cell_type": "code",
   "execution_count": 11,
   "metadata": {},
   "outputs": [],
   "source": [
    "#insert ground_truth into database"
   ]
  },
  {
   "cell_type": "code",
   "execution_count": 12,
   "metadata": {},
   "outputs": [],
   "source": [
    "ground_truth = [\"PER\", \"VER\", \"ALO\", \"VER\", \"BOT\", [\"STR\", \"ALB\"], \"Nie\", \"Ano\", \"Nie\", \"Nie\", \"Ano\", \"Nie\", \"Ano-Redbull\", \"VER\", \"Redbull\"]\n",
    "grad_prix_id = 2\n",
    "for n,ans in enumerate(ground_truth):\n",
    "    if type(ans) == str:\n",
    "        c.execute(f'''\n",
    "              INSERT INTO ground_truth (grand_prix_id, question_id, correct_ans) \n",
    "              VALUES ({grand_prix_id}, {n+1}, '{ans}')\n",
    "              ''')\n",
    "    elif type(ans) == list:\n",
    "        for ans1 in ans:\n",
    "            c.execute(f'''\n",
    "              INSERT INTO ground_truth (grand_prix_id, question_id, correct_ans) \n",
    "              VALUES ({grand_prix_id}, {n+1}, '{ans1}')\n",
    "              ''')"
   ]
  },
  {
   "cell_type": "code",
   "execution_count": 13,
   "metadata": {},
   "outputs": [],
   "source": [
    "#check number of correct answers"
   ]
  },
  {
   "cell_type": "code",
   "execution_count": 21,
   "metadata": {},
   "outputs": [
    {
     "name": "stdout",
     "output_type": "stream",
     "text": [
      "Wonde\n",
      "0\n",
      "Tome\n",
      "0\n",
      "Hrici\n",
      "0\n",
      "Kajlo\n",
      "0\n",
      "Sasu\n",
      "-7\n",
      "OG\n",
      "-8\n"
     ]
    }
   ],
   "source": [
    "gp_id = 3\n",
    "for i in range(len(player_names)):\n",
    "    #correct answers\n",
    "    c.execute(f'''SELECT COUNT(a.player_id) FROM bets a JOIN ground_truth b \n",
    "                 ON a.grand_prix_id = b.grand_prix_id \n",
    "                 AND a.answer = b.correct_ans\n",
    "                 AND a.question_id = b.question_id\n",
    "                 WHERE a.player_id = {i+1}\n",
    "                 AND a.grand_prix_id = {gp_id}''')\n",
    "    myresult = c.fetchall()\n",
    "    correct_pts = myresult[0][0]*2\n",
    "    #print(correct_pts)\n",
    "    \n",
    "    #incorrect answers\n",
    "    c.execute(f'''SELECT a.question_id FROM bets a JOIN ground_truth b \n",
    "             ON a.grand_prix_id = b.grand_prix_id \n",
    "             AND a.answer <> b.correct_ans\n",
    "             AND a.question_id = b.question_id\n",
    "             WHERE a.player_id = {i+1}\n",
    "             AND a.grand_prix_id = {gp_id}''')\n",
    "\n",
    "    minus_pts = 0\n",
    "    myresult1 = c.fetchall()\n",
    "    for ans in myresult1:\n",
    "        if ans[0] >= 1 and ans[0] <= 11:\n",
    "            minus_pts += 1\n",
    "    \n",
    "    print(player_names[i])\n",
    "    print(correct_pts - minus_pts)\n",
    "            "
   ]
  }
 ],
 "metadata": {
  "kernelspec": {
   "display_name": "Python 3 (ipykernel)",
   "language": "python",
   "name": "python3"
  },
  "language_info": {
   "codemirror_mode": {
    "name": "ipython",
    "version": 3
   },
   "file_extension": ".py",
   "mimetype": "text/x-python",
   "name": "python",
   "nbconvert_exporter": "python",
   "pygments_lexer": "ipython3",
   "version": "3.9.7"
  }
 },
 "nbformat": 4,
 "nbformat_minor": 4
}
